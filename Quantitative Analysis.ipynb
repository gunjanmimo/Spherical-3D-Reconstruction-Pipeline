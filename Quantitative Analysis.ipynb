{
 "cells": [
  {
   "cell_type": "code",
   "execution_count": 1,
   "metadata": {},
   "outputs": [
    {
     "name": "stdout",
     "output_type": "stream",
     "text": [
      "Jupyter environment detected. Enabling Open3D WebVisualizer.\n",
      "[Open3D INFO] WebRTC GUI backend enabled.\n",
      "[Open3D INFO] WebRTCWindowSystem: HTTP handshake server disabled.\n"
     ]
    }
   ],
   "source": [
    "import os  \n",
    "import open3d as o3d"
   ]
  },
  {
   "cell_type": "code",
   "execution_count": 2,
   "metadata": {},
   "outputs": [],
   "source": [
    "# function to load a point cloud from a file\n",
    "def load_point_cloud(file_name):\n",
    "    pcd = o3d.io.read_point_cloud(file_name)\n",
    "    return pcd\n"
   ]
  },
  {
   "cell_type": "code",
   "execution_count": 6,
   "metadata": {},
   "outputs": [
    {
     "name": "stdout",
     "output_type": "stream",
     "text": [
      "Method 1\n",
      "PointCloud with 1590173 points.\n",
      "Method 2\n",
      "PointCloud with 1628172 points.\n"
     ]
    }
   ],
   "source": [
    "method_1_ply = load_point_cloud(\"./pointclouds/method 1 - dense pointcloud.ply\")\n",
    "method_2_ply = load_point_cloud(\"./pointclouds/method 2  -  dense pointcloud.ply\")\n",
    "\n",
    "print(\"Method 1\")\n",
    "print(method_1_ply)\n",
    "print(\"Method 2\")\n",
    "print(method_2_ply)"
   ]
  },
  {
   "cell_type": "code",
   "execution_count": 14,
   "metadata": {},
   "outputs": [],
   "source": [
    "def area(aabb):\n",
    "    extent = (\n",
    "        aabb.get_extent()\n",
    "    )  \n",
    "\n",
    "    # Calculate the surface area\n",
    "    width, height, depth = extent\n",
    "    area = 2 * (width * depth + depth * height + height * width)\n",
    "    return area"
   ]
  },
  {
   "cell_type": "code",
   "execution_count": 15,
   "metadata": {},
   "outputs": [
    {
     "name": "stdout",
     "output_type": "stream",
     "text": [
      "Method 1\n",
      "Volume: 49490066.654382624\n",
      "Area: 822581.0329410941\n",
      "Method 2\n",
      "Volume: 9565609.748886663\n",
      "Area: 270994.58883815375\n"
     ]
    }
   ],
   "source": [
    "\n",
    "aabb_method_1 = method_1_ply.get_axis_aligned_bounding_box()\n",
    "aabb_method_2 = method_2_ply.get_axis_aligned_bounding_box()\n",
    "\n",
    "# calculate the volume and area of the bounding box \n",
    "print(\"Method 1\")\n",
    "print(f\"Volume: {aabb_method_1.volume()}\")\n",
    "print(f\"Area: {area(aabb_method_1)}\")\n",
    "\n",
    "print(\"Method 2\")\n",
    "print(f\"Volume: {aabb_method_2.volume()}\")\n",
    "print(f\"Area: {area(aabb_method_2)}\")"
   ]
  },
  {
   "cell_type": "code",
   "execution_count": 18,
   "metadata": {},
   "outputs": [
    {
     "name": "stdout",
     "output_type": "stream",
     "text": [
      "Method 1:\n",
      "Reconstruction Completeness: 5.319267979580634\n",
      "Point Density: 0.03721116569013959\n",
      "Surface Smoothness: 0.5551848969456313\n",
      "\n",
      "Method 2:\n",
      "Reconstruction Completeness: 1.7986599259511171\n",
      "Point Density: 0.010981866087069496\n",
      "Surface Smoothness: 0.5702759724554773\n"
     ]
    }
   ],
   "source": [
    "import open3d as o3d\n",
    "import numpy as np\n",
    "from scipy.spatial import ConvexHull\n",
    "\n",
    "\n",
    "# Function to load a point cloud from a file\n",
    "def load_point_cloud(file_name):\n",
    "    pcd = o3d.io.read_point_cloud(file_name)\n",
    "    return pcd\n",
    "\n",
    "\n",
    "# Function to calculate Reconstruction Completeness\n",
    "def calculate_completeness(pcd):\n",
    "    total_points = len(np.asarray(pcd.points))\n",
    "\n",
    "    points_2d = np.asarray(pcd.points)[:, :2]\n",
    "    hull = ConvexHull(points_2d)\n",
    "    visible_area = hull.volume\n",
    "\n",
    "    completeness_percentage = (visible_area / total_points) * 100\n",
    "    return completeness_percentage\n",
    "\n",
    "\n",
    "# Function to calculate Point Density\n",
    "def calculate_point_density(pcd):\n",
    "    distances = pcd.compute_nearest_neighbor_distance()\n",
    "    average_distance = np.mean(distances)\n",
    "    return average_distance\n",
    "\n",
    "\n",
    "# Function to calculate Surface Smoothness\n",
    "def calculate_surface_smoothness(pcd):\n",
    "    normals = np.asarray(pcd.normals)\n",
    "    surface_smoothness = np.std(normals)\n",
    "    return surface_smoothness\n",
    "\n",
    "\n",
    "method_1_ply = load_point_cloud(\"./pointclouds/method 1 - dense pointcloud.ply\")\n",
    "method_2_ply = load_point_cloud(\"./pointclouds/method 2  -  dense pointcloud.ply\")\n",
    "\n",
    "# Calculate metrics for Method 1\n",
    "method_1_completeness = calculate_completeness(method_1_ply)\n",
    "method_1_density = calculate_point_density(method_1_ply)\n",
    "method_1_smoothness = calculate_surface_smoothness(method_1_ply)\n",
    "\n",
    "# Calculate metrics for Method 2\n",
    "method_2_completeness = calculate_completeness(method_2_ply)\n",
    "method_2_density = calculate_point_density(method_2_ply)\n",
    "method_2_smoothness = calculate_surface_smoothness(method_2_ply)\n",
    "\n",
    "# Print results\n",
    "print(\"Method 1:\")\n",
    "print(\"Reconstruction Completeness:\", method_1_completeness)\n",
    "print(\"Point Density:\", method_1_density)\n",
    "print(\"Surface Smoothness:\", method_1_smoothness)\n",
    "\n",
    "print(\"\\nMethod 2:\")\n",
    "print(\"Reconstruction Completeness:\", method_2_completeness)\n",
    "print(\"Point Density:\", method_2_density)\n",
    "print(\"Surface Smoothness:\", method_2_smoothness)"
   ]
  },
  {
   "cell_type": "code",
   "execution_count": null,
   "metadata": {},
   "outputs": [],
   "source": []
  }
 ],
 "metadata": {
  "kernelspec": {
   "display_name": "cvc",
   "language": "python",
   "name": "python3"
  },
  "language_info": {
   "codemirror_mode": {
    "name": "ipython",
    "version": 3
   },
   "file_extension": ".py",
   "mimetype": "text/x-python",
   "name": "python",
   "nbconvert_exporter": "python",
   "pygments_lexer": "ipython3",
   "version": "3.10.0"
  }
 },
 "nbformat": 4,
 "nbformat_minor": 2
}
